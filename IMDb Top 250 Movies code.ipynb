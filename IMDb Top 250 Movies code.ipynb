{
 "cells": [
  {
   "cell_type": "markdown",
   "id": "7b6a30f4",
   "metadata": {},
   "source": [
    "                                           ABOUT THE DATASET\n",
    "\n",
    "The dataset we’ve consisted of records of Top 250 movies rating by IMDB. I was able to webscrap the necessary informations and import them into an excel for prediction using the Clustering algorithm"
   ]
  },
  {
   "cell_type": "code",
   "execution_count": 270,
   "id": "3d2bc8e3",
   "metadata": {},
   "outputs": [],
   "source": [
    "##IMPORT NECESSARY LIBARIES \n",
    "import pandas as pd\n",
    "import seaborn as sns\n",
    "import numpy as np\n",
    "from matplotlib import pyplot as plt\n",
    "import plotly.express as px\n",
    "%matplotlib inline\n",
    "from bs4 import BeautifulSoup\n",
    "import requests\n",
    "from csv import writer"
   ]
  },
  {
   "cell_type": "code",
   "execution_count": 154,
   "id": "b9bd7623",
   "metadata": {},
   "outputs": [],
   "source": [
    "## GETTING THE URL OF THE WEBSITE \n",
    "\n",
    "source = requests.get(\"https://www.imdb.com/chart/top/\")"
   ]
  },
  {
   "cell_type": "code",
   "execution_count": 14,
   "id": "e42b9a55",
   "metadata": {},
   "outputs": [],
   "source": [
    "### WE USE RAISE_FOR_STATUS IN CASE THE WEBISTE IS NOT REACHABLE AT A POINT \n",
    "\n",
    "source.raise_for_status()"
   ]
  },
  {
   "cell_type": "code",
   "execution_count": 155,
   "id": "7f252386",
   "metadata": {},
   "outputs": [],
   "source": [
    "### PASER IS USE TO ACCESS THE HTML PAGE OF THE SITE\n",
    "\n",
    "soup = BeautifulSoup(source.text,'html.parser')"
   ]
  },
  {
   "cell_type": "code",
   "execution_count": 18,
   "id": "bfbf0c91",
   "metadata": {},
   "outputs": [
    {
     "name": "stdout",
     "output_type": "stream",
     "text": [
      "250\n"
     ]
    }
   ],
   "source": [
    "###GETTING THE TAG OF THE HTML\n",
    "#### FIND_ALL() IS USED TO GET ALL THE NAMES IN THE TAG\n",
    "movies = soup.find('tbody', class_=\"lister-list\").find_all('tr')\n",
    "print(len(movies))"
   ]
  },
  {
   "cell_type": "code",
   "execution_count": 272,
   "id": "f5347bb7",
   "metadata": {},
   "outputs": [
    {
     "name": "stdout",
     "output_type": "stream",
     "text": [
      "1 The Shawshank Redemption 1994 9.2\n"
     ]
    }
   ],
   "source": [
    "\n",
    "for movie in movies:\n",
    "    Movie_name = movie.find('td', class_=\"titleColumn\").a.text    ###EXTRACTING THE NAME OF THE MOVIE FROM THE HTML\n",
    "    Movie_rank = movie.find('td', class_=\"titleColumn\").get_text(strip=True).split('.')[0]  ###EXTRACTING THE RANK\n",
    "    Movie_rating = movie.find('td', class_=\"ratingColumn\").get_text(strip=True)  ##EXTRACTING THE RATING\n",
    "    Movie_year = movie.find('td', class_=\"titleColumn\").span.text.strip('()')   ###EXTRACTING THE YEAR \n",
    "\n",
    "    print(Movie_rank, Movie_name, Movie_year, Movie_rating)\n",
    "    break"
   ]
  },
  {
   "cell_type": "markdown",
   "id": "60a03be4",
   "metadata": {},
   "source": [
    "LOADING THE FILE INTO EXCEL"
   ]
  },
  {
   "cell_type": "code",
   "execution_count": 115,
   "id": "f615ad09",
   "metadata": {},
   "outputs": [],
   "source": [
    "import openpyxl"
   ]
  },
  {
   "cell_type": "code",
   "execution_count": 131,
   "id": "4e28f064",
   "metadata": {},
   "outputs": [
    {
     "name": "stdout",
     "output_type": "stream",
     "text": [
      "['IMDb Top 250 Movies']\n",
      "1 The Shawshank Redemption 1994 9.2\n",
      "2 The Godfather 1972 9.2\n",
      "3 The Dark Knight 2008 9.0\n",
      "4 The Godfather Part II 1974 9.0\n",
      "5 12 Angry Men 1957 9.0\n",
      "6 Schindler's List 1993 8.9\n",
      "7 The Lord of the Rings: The Return of the King 2003 8.9\n",
      "8 Pulp Fiction 1994 8.8\n",
      "9 The Lord of the Rings: The Fellowship of the Ring 2001 8.8\n",
      "10 Il buono, il brutto, il cattivo 1966 8.8\n",
      "11 Forrest Gump 1994 8.8\n",
      "12 Fight Club 1999 8.7\n",
      "13 The Lord of the Rings: The Two Towers 2002 8.7\n",
      "14 Inception 2010 8.7\n",
      "15 The Empire Strikes Back 1980 8.7\n",
      "16 The Matrix 1999 8.7\n",
      "17 Goodfellas 1990 8.7\n",
      "18 One Flew Over the Cuckoo's Nest 1975 8.6\n",
      "19 Se7en 1995 8.6\n",
      "20 Shichinin no samurai 1954 8.6\n",
      "21 It's a Wonderful Life 1946 8.6\n",
      "22 The Silence of the Lambs 1991 8.6\n",
      "23 Cidade de Deus 2002 8.6\n",
      "24 Saving Private Ryan 1998 8.6\n",
      "25 La vita è bella 1997 8.6\n",
      "26 Interstellar 2014 8.6\n",
      "27 The Green Mile 1999 8.6\n",
      "28 Star Wars 1977 8.6\n",
      "29 Terminator 2: Judgment Day 1991 8.5\n",
      "30 Back to the Future 1985 8.5\n",
      "31 Sen to Chihiro no kamikakushi 2001 8.5\n",
      "32 Psycho 1960 8.5\n",
      "33 The Pianist 2002 8.5\n",
      "34 Gisaengchung 2019 8.5\n",
      "35 Léon 1994 8.5\n",
      "36 The Lion King 1994 8.5\n",
      "37 Gladiator 2000 8.5\n",
      "38 American History X 1998 8.5\n",
      "39 The Departed 2006 8.5\n",
      "40 The Usual Suspects 1995 8.5\n",
      "41 The Prestige 2006 8.5\n",
      "42 Whiplash 2014 8.5\n",
      "43 Casablanca 1942 8.5\n",
      "44 Seppuku 1962 8.5\n",
      "45 The Intouchables 2011 8.5\n",
      "46 Hotaru no haka 1988 8.5\n",
      "47 Modern Times 1936 8.4\n",
      "48 Once Upon a Time in the West 1968 8.4\n",
      "49 Rear Window 1954 8.4\n",
      "50 Alien 1979 8.4\n",
      "51 City Lights 1931 8.4\n",
      "52 Nuovo Cinema Paradiso 1988 8.4\n",
      "53 Apocalypse Now 1979 8.4\n",
      "54 Memento 2000 8.4\n",
      "55 Raiders of the Lost Ark 1981 8.4\n",
      "56 Django Unchained 2012 8.4\n",
      "57 WALL·E 2008 8.4\n",
      "58 The Lives of Others 2006 8.4\n",
      "59 Sunset Blvd. 1950 8.4\n",
      "60 Paths of Glory 1957 8.4\n",
      "61 The Great Dictator 1940 8.4\n",
      "62 The Shining 1980 8.4\n",
      "63 Avengers: Infinity War 2018 8.4\n",
      "64 Witness for the Prosecution 1957 8.4\n",
      "65 Aliens 1986 8.3\n",
      "66 Spider-Man: Into the Spider-Verse 2018 8.3\n",
      "67 American Beauty 1999 8.3\n",
      "68 Dr. Strangelove or: How I Learned to Stop Worrying and Love the Bomb 1964 8.3\n",
      "69 The Dark Knight Rises 2012 8.3\n",
      "70 Oldeuboi 2003 8.3\n",
      "71 Joker 2019 8.3\n",
      "72 Amadeus 1984 8.3\n",
      "73 Inglourious Basterds 2009 8.3\n",
      "74 Coco 2017 8.3\n",
      "75 Toy Story 1995 8.3\n",
      "76 Braveheart 1995 8.3\n",
      "77 Das Boot 1981 8.3\n",
      "78 Avengers: Endgame 2019 8.3\n",
      "79 Mononoke-hime 1997 8.3\n",
      "80 Once Upon a Time in America 1984 8.3\n",
      "81 Top Gun: Maverick 2022 8.3\n",
      "82 Good Will Hunting 1997 8.3\n",
      "83 Kimi no Na wa. 2016 8.3\n",
      "84 Requiem for a Dream 2000 8.3\n",
      "85 Singin' in the Rain 1952 8.3\n",
      "86 Toy Story 3 2010 8.3\n",
      "87 3 Idiots 2009 8.3\n",
      "88 Tengoku to jigoku 1963 8.3\n",
      "89 Star Wars: Episode VI - Return of the Jedi 1983 8.3\n",
      "90 Capharnaüm 2018 8.3\n",
      "91 Eternal Sunshine of the Spotless Mind 2004 8.3\n",
      "92 2001: A Space Odyssey 1968 8.3\n",
      "93 Reservoir Dogs 1992 8.3\n",
      "94 Jagten 2012 8.3\n",
      "95 Citizen Kane 1941 8.3\n",
      "96 Idi i smotri 1985 8.3\n",
      "97 M - Eine Stadt sucht einen Mörder 1931 8.3\n",
      "98 Lawrence of Arabia 1962 8.3\n",
      "99 North by Northwest 1959 8.2\n",
      "100 Vertigo 1958 8.2\n",
      "101 Le fabuleux destin d'Amélie Poulain 2001 8.2\n",
      "102 A Clockwork Orange 1971 8.2\n",
      "103 The Apartment 1960 8.2\n",
      "104 Double Indemnity 1944 8.2\n",
      "105 Ikiru 1952 8.2\n",
      "106 Full Metal Jacket 1987 8.2\n",
      "107 Hamilton 2020 8.2\n",
      "108 Scarface 1983 8.2\n",
      "109 The Sting 1973 8.2\n",
      "110 To Kill a Mockingbird 1962 8.2\n",
      "111 Incendies 2010 8.2\n",
      "112 Up 2009 8.2\n",
      "113 Heat 1995 8.2\n",
      "114 Taxi Driver 1976 8.2\n",
      "115 Jodaeiye Nader az Simin 2011 8.2\n",
      "116 Metropolis 1927 8.2\n",
      "117 L.A. Confidential 1997 8.2\n",
      "118 Snatch 2000 8.2\n",
      "119 Die Hard 1988 8.2\n",
      "120 Ladri di biciclette 1948 8.2\n",
      "121 Indiana Jones and the Last Crusade 1989 8.2\n",
      "122 Taare Zameen Par 2007 8.2\n",
      "123 1917 2019 8.2\n",
      "124 Der Untergang 2004 8.2\n",
      "125 Per qualche dollaro in più 1965 8.2\n",
      "126 Dangal 2016 8.2\n",
      "127 Batman Begins 2005 8.2\n",
      "128 The Kid 1921 8.2\n",
      "129 Some Like It Hot 1959 8.2\n",
      "130 The Father 2020 8.2\n",
      "131 All About Eve 1950 8.2\n",
      "132 Green Book 2018 8.2\n",
      "133 The Wolf of Wall Street 2013 8.2\n",
      "134 Judgment at Nuremberg 1961 8.2\n",
      "135 Ran 1985 8.2\n",
      "136 Casino 1995 8.2\n",
      "137 Pan's Labyrinth 2006 8.2\n",
      "138 Unforgiven 1992 8.2\n",
      "139 There Will Be Blood 2007 8.2\n",
      "140 The Truman Show 1998 8.2\n",
      "141 The Sixth Sense 1999 8.2\n",
      "142 A Beautiful Mind 2001 8.2\n",
      "143 Spider-Man: No Way Home 2021 8.2\n",
      "144 Yôjinbô 1961 8.1\n",
      "145 Monty Python and the Holy Grail 1975 8.1\n",
      "146 Shutter Island 2010 8.1\n",
      "147 The Treasure of the Sierra Madre 1948 8.1\n",
      "148 Jurassic Park 1993 8.1\n",
      "149 Rashômon 1950 8.1\n",
      "150 The Great Escape 1963 8.1\n",
      "151 Kill Bill: Vol. 1 2003 8.1\n",
      "152 No Country for Old Men 2007 8.1\n",
      "153 Finding Nemo 2003 8.1\n",
      "154 The Thing 1982 8.1\n",
      "155 The Elephant Man 1980 8.1\n",
      "156 Chinatown 1974 8.1\n",
      "157 Raging Bull 1980 8.1\n",
      "158 V for Vendetta 2005 8.1\n",
      "159 Gone with the Wind 1939 8.1\n",
      "160 Inside Out 2015 8.1\n",
      "161 Lock, Stock and Two Smoking Barrels 1998 8.1\n",
      "162 Dial M for Murder 1954 8.1\n",
      "163 El secreto de sus ojos 2009 8.1\n",
      "164 Hauru no ugoku shiro 2004 8.1\n",
      "165 The Bridge on the River Kwai 1957 8.1\n",
      "166 Three Billboards Outside Ebbing, Missouri 2017 8.1\n",
      "167 Trainspotting 1996 8.1\n",
      "168 Warrior 2011 8.1\n",
      "169 Gran Torino 2008 8.1\n",
      "170 Fargo 1996 8.1\n",
      "171 Prisoners 2013 8.1\n",
      "172 Tonari no Totoro 1988 8.1\n",
      "173 Million Dollar Baby 2004 8.1\n",
      "174 Catch Me If You Can 2002 8.1\n",
      "175 Bacheha-Ye aseman 1997 8.1\n",
      "176 The Gold Rush 1925 8.1\n",
      "177 Blade Runner 1982 8.1\n",
      "178 On the Waterfront 1954 8.1\n",
      "179 Before Sunrise 1995 8.1\n",
      "180 12 Years a Slave 2013 8.1\n",
      "181 Harry Potter and the Deathly Hallows - Part 2 2011 8.1\n",
      "182 Ben-Hur 1959 8.1\n",
      "183 Smultronstället 1957 8.1\n",
      "184 The Third Man 1949 8.1\n",
      "185 Gone Girl 2014 8.1\n",
      "186 The General 1926 8.1\n",
      "187 The Grand Budapest Hotel 2014 8.1\n",
      "188 The Deer Hunter 1978 8.1\n",
      "189 In the Name of the Father 1993 8.1\n",
      "190 Barry Lyndon 1975 8.1\n",
      "191 Le salaire de la peur 1953 8.1\n",
      "192 Klaus 2019 8.1\n",
      "193 Hacksaw Ridge 2016 8.1\n",
      "194 Mr. Smith Goes to Washington 1939 8.1\n",
      "195 Sherlock Jr. 1924 8.1\n",
      "196 Salinui chueok 2003 8.1\n",
      "197 Relatos salvajes 2014 8.1\n",
      "198 Det sjunde inseglet 1957 8.1\n",
      "199 Room 2015 8.1\n",
      "200 Mad Max: Fury Road 2015 8.1\n",
      "201 Mary and Max. 2009 8.1\n",
      "202 How to Train Your Dragon 2010 8.1\n",
      "203 The Big Lebowski 1998 8.1\n",
      "204 Monsters, Inc. 2001 8.1\n",
      "205 Jaws 1975 8.1\n",
      "206 Dead Poets Society 1989 8.1\n",
      "207 La passion de Jeanne d'Arc 1928 8.1\n",
      "208 Tôkyô monogatari 1953 8.1\n",
      "209 Hotel Rwanda 2004 8.1\n",
      "210 Ford v Ferrari 2019 8.0\n",
      "211 Rocky 1976 8.0\n",
      "212 Platoon 1986 8.0\n",
      "213 Stand by Me 1986 8.0\n",
      "214 The Terminator 1984 8.0\n",
      "215 Spotlight 2015 8.0\n",
      "216 Logan 2017 8.0\n",
      "217 Pather Panchali 1955 8.0\n",
      "218 Ratatouille 2007 8.0\n",
      "219 Rush 2013 8.0\n",
      "220 Network 1976 8.0\n",
      "221 Into the Wild 2007 8.0\n",
      "222 The Wizard of Oz 1939 8.0\n",
      "223 Before Sunset 2004 8.0\n",
      "224 Groundhog Day 1993 8.0\n",
      "225 The Exorcist 1973 8.0\n",
      "226 The Best Years of Our Lives 1946 8.0\n",
      "227 Jai Bhim 2021 8.0\n",
      "228 The Incredibles 2004 8.0\n",
      "229 La battaglia di Algeri 1966 8.0\n",
      "230 To Be or Not to Be 1942 8.0\n",
      "231 Everything Everywhere All at Once 2022 8.0\n",
      "232 Hachi: A Dog's Tale 2009 8.0\n",
      "233 Pirates of the Caribbean: The Curse of the Black Pearl 2003 8.0\n",
      "234 The Grapes of Wrath 1940 8.0\n",
      "235 Amores perros 2000 8.0\n",
      "236 La haine 1995 8.0\n",
      "237 Rebecca 1940 8.0\n",
      "238 Babam ve Oglum 2005 8.0\n",
      "239 Cool Hand Luke 1967 8.0\n",
      "240 Les quatre cents coups 1959 8.0\n",
      "241 Ah-ga-ssi 2016 8.0\n",
      "242 It Happened One Night 1934 8.0\n",
      "243 The Sound of Music 1965 8.0\n",
      "244 Persona 1966 8.0\n",
      "245 Life of Brian 1979 8.0\n",
      "246 Dersu Uzala 1975 8.0\n",
      "247 Aladdin 1992 8.0\n",
      "248 The Help 2011 8.0\n",
      "249 Gandhi 1982 8.0\n",
      "250 The Iron Giant 1999 8.0\n"
     ]
    }
   ],
   "source": [
    "excel = openpyxl.Workbook()\n",
    "sheet = excel.active\n",
    "sheet.title = 'IMDb Top 250 Movies'\n",
    "print(excel.sheetnames)\n",
    "sheet.append([\"Movie Rank\", \"Movie Title\", \"Movie Year\", \" IMDBRating\"]) ###CREATING HEADINGS FOR THE COLUMN NAMES\n",
    "\n",
    "for movie in movies:\n",
    "    Movie_name = movie.find('td', class_=\"titleColumn\").a.text    ###EXTRACTING THE NAME OF THE MOVIE FROM THE HTML\n",
    "    Movie_rank = movie.find('td', class_=\"titleColumn\").get_text(strip=True).split('.')[0]  ###EXTRACTING THE RANK\n",
    "    Movie_rating = movie.find('td', class_=\"ratingColumn\").get_text(strip=True)  ##EXTRACTING THE RATING\n",
    "    Movie_year = movie.find('td', class_=\"titleColumn\").span.text.strip('()')   ###EXTRACTING THE YEAR \n",
    "    \n",
    "    \n",
    "    \n",
    "    sheet.append([Movie_rank, Movie_name, Movie_year, Movie_rating])\n",
    "excel.save(\"IMDb Top 250 Movies.xlsx\")  ####SAVING THE EXCEL FILE TO THE LOCAL DIRECTORY"
   ]
  },
  {
   "cell_type": "code",
   "execution_count": 161,
   "id": "0a1f2bb2",
   "metadata": {},
   "outputs": [],
   "source": [
    "###IMPORTING THE DATASET FROM DIRECTORY\n",
    "dataset = pd.read_excel('C:/data/IMDb Top 250 Movies.xlsx')"
   ]
  },
  {
   "cell_type": "code",
   "execution_count": 167,
   "id": "16efc19a",
   "metadata": {},
   "outputs": [
    {
     "name": "stdout",
     "output_type": "stream",
     "text": [
      "(250, 4)\n"
     ]
    },
    {
     "data": {
      "text/html": [
       "<div>\n",
       "<style scoped>\n",
       "    .dataframe tbody tr th:only-of-type {\n",
       "        vertical-align: middle;\n",
       "    }\n",
       "\n",
       "    .dataframe tbody tr th {\n",
       "        vertical-align: top;\n",
       "    }\n",
       "\n",
       "    .dataframe thead th {\n",
       "        text-align: right;\n",
       "    }\n",
       "</style>\n",
       "<table border=\"1\" class=\"dataframe\">\n",
       "  <thead>\n",
       "    <tr style=\"text-align: right;\">\n",
       "      <th></th>\n",
       "      <th>Movie Rank</th>\n",
       "      <th>Movie Title</th>\n",
       "      <th>Movie Year</th>\n",
       "      <th>IMDBRating</th>\n",
       "    </tr>\n",
       "  </thead>\n",
       "  <tbody>\n",
       "    <tr>\n",
       "      <th>0</th>\n",
       "      <td>1</td>\n",
       "      <td>The Shawshank Redemption</td>\n",
       "      <td>1994</td>\n",
       "      <td>9.2</td>\n",
       "    </tr>\n",
       "    <tr>\n",
       "      <th>1</th>\n",
       "      <td>2</td>\n",
       "      <td>The Godfather</td>\n",
       "      <td>1972</td>\n",
       "      <td>9.2</td>\n",
       "    </tr>\n",
       "    <tr>\n",
       "      <th>2</th>\n",
       "      <td>3</td>\n",
       "      <td>The Dark Knight</td>\n",
       "      <td>2008</td>\n",
       "      <td>9.0</td>\n",
       "    </tr>\n",
       "    <tr>\n",
       "      <th>3</th>\n",
       "      <td>4</td>\n",
       "      <td>The Godfather Part II</td>\n",
       "      <td>1974</td>\n",
       "      <td>9.0</td>\n",
       "    </tr>\n",
       "    <tr>\n",
       "      <th>4</th>\n",
       "      <td>5</td>\n",
       "      <td>12 Angry Men</td>\n",
       "      <td>1957</td>\n",
       "      <td>9.0</td>\n",
       "    </tr>\n",
       "  </tbody>\n",
       "</table>\n",
       "</div>"
      ],
      "text/plain": [
       "   Movie Rank               Movie Title  Movie Year   IMDBRating\n",
       "0           1  The Shawshank Redemption        1994          9.2\n",
       "1           2             The Godfather        1972          9.2\n",
       "2           3           The Dark Knight        2008          9.0\n",
       "3           4     The Godfather Part II        1974          9.0\n",
       "4           5              12 Angry Men        1957          9.0"
      ]
     },
     "execution_count": 167,
     "metadata": {},
     "output_type": "execute_result"
    }
   ],
   "source": [
    "print(dataset.shape)\n",
    "dataset.head()"
   ]
  },
  {
   "cell_type": "code",
   "execution_count": 168,
   "id": "3b4ab6f4",
   "metadata": {},
   "outputs": [
    {
     "data": {
      "text/plain": [
       "Movie Rank     0\n",
       "Movie Title    0\n",
       "Movie Year     0\n",
       " IMDBRating    0\n",
       "dtype: int64"
      ]
     },
     "execution_count": 168,
     "metadata": {},
     "output_type": "execute_result"
    }
   ],
   "source": [
    "dataset.isna().sum()"
   ]
  },
  {
   "cell_type": "code",
   "execution_count": 169,
   "id": "9a95a13a",
   "metadata": {},
   "outputs": [
    {
     "data": {
      "text/plain": [
       "Movie Rank       int64\n",
       "Movie Title     object\n",
       "Movie Year       int64\n",
       " IMDBRating    float64\n",
       "dtype: object"
      ]
     },
     "execution_count": 169,
     "metadata": {},
     "output_type": "execute_result"
    }
   ],
   "source": [
    "dataset.dtypes"
   ]
  },
  {
   "cell_type": "code",
   "execution_count": 232,
   "id": "bb7c3a06",
   "metadata": {},
   "outputs": [],
   "source": [
    "features = ['Movie Rank','Movie Year', ' IMDBRating']"
   ]
  },
  {
   "cell_type": "code",
   "execution_count": 203,
   "id": "6b644517",
   "metadata": {},
   "outputs": [
    {
     "name": "stderr",
     "output_type": "stream",
     "text": [
      "C:\\Users\\HP\\anaconda\\lib\\site-packages\\seaborn\\distributions.py:2619: FutureWarning: `distplot` is a deprecated function and will be removed in a future version. Please adapt your code to use either `displot` (a figure-level function with similar flexibility) or `histplot` (an axes-level function for histograms).\n",
      "  warnings.warn(msg, FutureWarning)\n"
     ]
    },
    {
     "data": {
      "image/png": "[encoded data removed]",
      "text/plain": [
       "<Figure size 432x288 with 1 Axes>"
      ]
     },
     "metadata": {
      "needs_background": "light"
     },
     "output_type": "display_data"
    },
    {
     "name": "stderr",
     "output_type": "stream",
     "text": [
      "C:\\Users\\HP\\anaconda\\lib\\site-packages\\seaborn\\distributions.py:2619: FutureWarning: `distplot` is a deprecated function and will be removed in a future version. Please adapt your code to use either `displot` (a figure-level function with similar flexibility) or `histplot` (an axes-level function for histograms).\n",
      "  warnings.warn(msg, FutureWarning)\n"
     ]
    },
    {
     "data": {
      "image/png": "[encoded data removed]",
      "text/plain": [
       "<Figure size 432x288 with 1 Axes>"
      ]
     },
     "metadata": {
      "needs_background": "light"
     },
     "output_type": "display_data"
    },
    {
     "name": "stderr",
     "output_type": "stream",
     "text": [
      "C:\\Users\\HP\\anaconda\\lib\\site-packages\\seaborn\\distributions.py:2619: FutureWarning: `distplot` is a deprecated function and will be removed in a future version. Please adapt your code to use either `displot` (a figure-level function with similar flexibility) or `histplot` (an axes-level function for histograms).\n",
      "  warnings.warn(msg, FutureWarning)\n"
     ]
    },
    {
     "data": {
      "image/png": "[encoded data removed]",
      "text/plain": [
       "<Figure size 432x288 with 1 Axes>"
      ]
     },
     "metadata": {
      "needs_background": "light"
     },
     "output_type": "display_data"
    }
   ],
   "source": [
    "#Checking the distributions of the interactions\n",
    "\n",
    "for feature in features:\n",
    "    sns.distplot(dataset[feature]) \n",
    "    plt.show()"
   ]
  },
  {
   "cell_type": "code",
   "execution_count": 186,
   "id": "ef92036c",
   "metadata": {},
   "outputs": [
    {
     "name": "stdout",
     "output_type": "stream",
     "text": [
      "1995    8\n",
      "2004    7\n",
      "2009    6\n",
      "1957    6\n",
      "2003    6\n",
      "       ..\n",
      "1941    1\n",
      "1936    1\n",
      "1972    1\n",
      "1964    1\n",
      "1934    1\n",
      "Name: Movie Year, Length: 86, dtype: int64\n"
     ]
    }
   ],
   "source": [
    "print(dataset['Movie Year'].value_counts())"
   ]
  },
  {
   "cell_type": "code",
   "execution_count": 204,
   "id": "733e1922",
   "metadata": {},
   "outputs": [
    {
     "name": "stdout",
     "output_type": "stream",
     "text": [
      "8.1    66\n",
      "8.2    45\n",
      "8.0    41\n",
      "8.3    34\n",
      "8.5    18\n",
      "8.4    18\n",
      "8.6    11\n",
      "8.7     6\n",
      "8.8     4\n",
      "9.0     3\n",
      "9.2     2\n",
      "8.9     2\n",
      "Name:  IMDBRating, dtype: int64\n"
     ]
    }
   ],
   "source": [
    "print(dataset[' IMDBRating'].value_counts())"
   ]
  },
  {
   "cell_type": "code",
   "execution_count": 184,
   "id": "59340255",
   "metadata": {},
   "outputs": [
    {
     "data": {
      "text/html": [
       "<div>\n",
       "<style scoped>\n",
       "    .dataframe tbody tr th:only-of-type {\n",
       "        vertical-align: middle;\n",
       "    }\n",
       "\n",
       "    .dataframe tbody tr th {\n",
       "        vertical-align: top;\n",
       "    }\n",
       "\n",
       "    .dataframe thead th {\n",
       "        text-align: right;\n",
       "    }\n",
       "</style>\n",
       "<table border=\"1\" class=\"dataframe\">\n",
       "  <thead>\n",
       "    <tr style=\"text-align: right;\">\n",
       "      <th></th>\n",
       "      <th>Movie Rank</th>\n",
       "      <th>Movie Year</th>\n",
       "      <th>IMDBRating</th>\n",
       "    </tr>\n",
       "  </thead>\n",
       "  <tbody>\n",
       "    <tr>\n",
       "      <th>Movie Rank</th>\n",
       "      <td>1.000000</td>\n",
       "      <td>-0.047245</td>\n",
       "      <td>-0.902919</td>\n",
       "    </tr>\n",
       "    <tr>\n",
       "      <th>Movie Year</th>\n",
       "      <td>-0.047245</td>\n",
       "      <td>1.000000</td>\n",
       "      <td>0.040697</td>\n",
       "    </tr>\n",
       "    <tr>\n",
       "      <th>IMDBRating</th>\n",
       "      <td>-0.902919</td>\n",
       "      <td>0.040697</td>\n",
       "      <td>1.000000</td>\n",
       "    </tr>\n",
       "  </tbody>\n",
       "</table>\n",
       "</div>"
      ],
      "text/plain": [
       "             Movie Rank  Movie Year   IMDBRating\n",
       "Movie Rank     1.000000   -0.047245    -0.902919\n",
       "Movie Year    -0.047245    1.000000     0.040697\n",
       " IMDBRating   -0.902919    0.040697     1.000000"
      ]
     },
     "execution_count": 184,
     "metadata": {},
     "output_type": "execute_result"
    }
   ],
   "source": [
    "##Correlation analysis in research is a statistical method used to measure the strength of the linear relationship between two variables and compute their association.\n",
    "\n",
    "\n",
    "correlation = dataset.corr().transpose()\n",
    "correlation"
   ]
  },
  {
   "cell_type": "code",
   "execution_count": 185,
   "id": "f33b04c6",
   "metadata": {},
   "outputs": [
    {
     "data": {
      "image/png": "[encoded data removed]",
      "text/plain": [
       "<Figure size 720x720 with 2 Axes>"
      ]
     },
     "metadata": {
      "needs_background": "light"
     },
     "output_type": "display_data"
    }
   ],
   "source": [
    "plt.figure(figsize=(10,10))\n",
    "sns.heatmap(correlation,vmax=1,vmin=-1,square=True)\n",
    "plt.show()"
   ]
  },
  {
   "cell_type": "code",
   "execution_count": 201,
   "id": "cd63a2e5",
   "metadata": {},
   "outputs": [
    {
     "data": {
      "text/plain": [
       "array([[   9.2, 1994. ],\n",
       "       [   9.2, 1972. ],\n",
       "       [   9. , 2008. ],\n",
       "       [   9. , 1974. ],\n",
       "       [   9. , 1957. ],\n",
       "       [   8.9, 1993. ],\n",
       "       [   8.9, 2003. ],\n",
       "       [   8.8, 1994. ],\n",
       "       [   8.8, 2001. ],\n",
       "       [   8.8, 1966. ],\n",
       "       [   8.8, 1994. ],\n",
       "       [   8.7, 1999. ],\n",
       "       [   8.7, 2002. ],\n",
       "       [   8.7, 2010. ],\n",
       "       [   8.7, 1980. ],\n",
       "       [   8.7, 1999. ],\n",
       "       [   8.7, 1990. ],\n",
       "       [   8.6, 1975. ],\n",
       "       [   8.6, 1995. ],\n",
       "       [   8.6, 1954. ],\n",
       "       [   8.6, 1946. ],\n",
       "       [   8.6, 1991. ],\n",
       "       [   8.6, 2002. ],\n",
       "       [   8.6, 1998. ],\n",
       "       [   8.6, 1997. ],\n",
       "       [   8.6, 2014. ],\n",
       "       [   8.6, 1999. ],\n",
       "       [   8.6, 1977. ],\n",
       "       [   8.5, 1991. ],\n",
       "       [   8.5, 1985. ],\n",
       "       [   8.5, 2001. ],\n",
       "       [   8.5, 1960. ],\n",
       "       [   8.5, 2002. ],\n",
       "       [   8.5, 2019. ],\n",
       "       [   8.5, 1994. ],\n",
       "       [   8.5, 1994. ],\n",
       "       [   8.5, 2000. ],\n",
       "       [   8.5, 1998. ],\n",
       "       [   8.5, 2006. ],\n",
       "       [   8.5, 1995. ],\n",
       "       [   8.5, 2006. ],\n",
       "       [   8.5, 2014. ],\n",
       "       [   8.5, 1942. ],\n",
       "       [   8.5, 1962. ],\n",
       "       [   8.5, 2011. ],\n",
       "       [   8.5, 1988. ],\n",
       "       [   8.4, 1936. ],\n",
       "       [   8.4, 1968. ],\n",
       "       [   8.4, 1954. ],\n",
       "       [   8.4, 1979. ],\n",
       "       [   8.4, 1931. ],\n",
       "       [   8.4, 1988. ],\n",
       "       [   8.4, 1979. ],\n",
       "       [   8.4, 2000. ],\n",
       "       [   8.4, 1981. ],\n",
       "       [   8.4, 2012. ],\n",
       "       [   8.4, 2008. ],\n",
       "       [   8.4, 2006. ],\n",
       "       [   8.4, 1950. ],\n",
       "       [   8.4, 1957. ],\n",
       "       [   8.4, 1940. ],\n",
       "       [   8.4, 1980. ],\n",
       "       [   8.4, 2018. ],\n",
       "       [   8.4, 1957. ],\n",
       "       [   8.3, 1986. ],\n",
       "       [   8.3, 2018. ],\n",
       "       [   8.3, 1999. ],\n",
       "       [   8.3, 1964. ],\n",
       "       [   8.3, 2012. ],\n",
       "       [   8.3, 2003. ],\n",
       "       [   8.3, 2019. ],\n",
       "       [   8.3, 1984. ],\n",
       "       [   8.3, 2009. ],\n",
       "       [   8.3, 2017. ],\n",
       "       [   8.3, 1995. ],\n",
       "       [   8.3, 1995. ],\n",
       "       [   8.3, 1981. ],\n",
       "       [   8.3, 2019. ],\n",
       "       [   8.3, 1997. ],\n",
       "       [   8.3, 1984. ],\n",
       "       [   8.3, 2022. ],\n",
       "       [   8.3, 1997. ],\n",
       "       [   8.3, 2016. ],\n",
       "       [   8.3, 2000. ],\n",
       "       [   8.3, 1952. ],\n",
       "       [   8.3, 2010. ],\n",
       "       [   8.3, 2009. ],\n",
       "       [   8.3, 1963. ],\n",
       "       [   8.3, 1983. ],\n",
       "       [   8.3, 2018. ],\n",
       "       [   8.3, 2004. ],\n",
       "       [   8.3, 1968. ],\n",
       "       [   8.3, 1992. ],\n",
       "       [   8.3, 2012. ],\n",
       "       [   8.3, 1941. ],\n",
       "       [   8.3, 1985. ],\n",
       "       [   8.3, 1931. ],\n",
       "       [   8.3, 1962. ],\n",
       "       [   8.2, 1959. ],\n",
       "       [   8.2, 1958. ],\n",
       "       [   8.2, 2001. ],\n",
       "       [   8.2, 1971. ],\n",
       "       [   8.2, 1960. ],\n",
       "       [   8.2, 1944. ],\n",
       "       [   8.2, 1952. ],\n",
       "       [   8.2, 1987. ],\n",
       "       [   8.2, 2020. ],\n",
       "       [   8.2, 1983. ],\n",
       "       [   8.2, 1973. ],\n",
       "       [   8.2, 1962. ],\n",
       "       [   8.2, 2010. ],\n",
       "       [   8.2, 2009. ],\n",
       "       [   8.2, 1995. ],\n",
       "       [   8.2, 1976. ],\n",
       "       [   8.2, 2011. ],\n",
       "       [   8.2, 1927. ],\n",
       "       [   8.2, 1997. ],\n",
       "       [   8.2, 2000. ],\n",
       "       [   8.2, 1988. ],\n",
       "       [   8.2, 1948. ],\n",
       "       [   8.2, 1989. ],\n",
       "       [   8.2, 2007. ],\n",
       "       [   8.2, 2019. ],\n",
       "       [   8.2, 2004. ],\n",
       "       [   8.2, 1965. ],\n",
       "       [   8.2, 2016. ],\n",
       "       [   8.2, 2005. ],\n",
       "       [   8.2, 1921. ],\n",
       "       [   8.2, 1959. ],\n",
       "       [   8.2, 2020. ],\n",
       "       [   8.2, 1950. ],\n",
       "       [   8.2, 2018. ],\n",
       "       [   8.2, 2013. ],\n",
       "       [   8.2, 1961. ],\n",
       "       [   8.2, 1985. ],\n",
       "       [   8.2, 1995. ],\n",
       "       [   8.2, 2006. ],\n",
       "       [   8.2, 1992. ],\n",
       "       [   8.2, 2007. ],\n",
       "       [   8.2, 1998. ],\n",
       "       [   8.2, 1999. ],\n",
       "       [   8.2, 2001. ],\n",
       "       [   8.2, 2021. ],\n",
       "       [   8.1, 1961. ],\n",
       "       [   8.1, 1975. ],\n",
       "       [   8.1, 2010. ],\n",
       "       [   8.1, 1948. ],\n",
       "       [   8.1, 1993. ],\n",
       "       [   8.1, 1950. ],\n",
       "       [   8.1, 1963. ],\n",
       "       [   8.1, 2003. ],\n",
       "       [   8.1, 2007. ],\n",
       "       [   8.1, 2003. ],\n",
       "       [   8.1, 1982. ],\n",
       "       [   8.1, 1980. ],\n",
       "       [   8.1, 1974. ],\n",
       "       [   8.1, 1980. ],\n",
       "       [   8.1, 2005. ],\n",
       "       [   8.1, 1939. ],\n",
       "       [   8.1, 2015. ],\n",
       "       [   8.1, 1998. ],\n",
       "       [   8.1, 1954. ],\n",
       "       [   8.1, 2009. ],\n",
       "       [   8.1, 2004. ],\n",
       "       [   8.1, 1957. ],\n",
       "       [   8.1, 2017. ],\n",
       "       [   8.1, 1996. ],\n",
       "       [   8.1, 2011. ],\n",
       "       [   8.1, 2008. ],\n",
       "       [   8.1, 1996. ],\n",
       "       [   8.1, 2013. ],\n",
       "       [   8.1, 1988. ],\n",
       "       [   8.1, 2004. ],\n",
       "       [   8.1, 2002. ],\n",
       "       [   8.1, 1997. ],\n",
       "       [   8.1, 1925. ],\n",
       "       [   8.1, 1982. ],\n",
       "       [   8.1, 1954. ],\n",
       "       [   8.1, 1995. ],\n",
       "       [   8.1, 2013. ],\n",
       "       [   8.1, 2011. ],\n",
       "       [   8.1, 1959. ],\n",
       "       [   8.1, 1957. ],\n",
       "       [   8.1, 1949. ],\n",
       "       [   8.1, 2014. ],\n",
       "       [   8.1, 1926. ],\n",
       "       [   8.1, 2014. ],\n",
       "       [   8.1, 1978. ],\n",
       "       [   8.1, 1993. ],\n",
       "       [   8.1, 1975. ],\n",
       "       [   8.1, 1953. ],\n",
       "       [   8.1, 2019. ],\n",
       "       [   8.1, 2016. ],\n",
       "       [   8.1, 1939. ],\n",
       "       [   8.1, 1924. ],\n",
       "       [   8.1, 2003. ],\n",
       "       [   8.1, 2014. ],\n",
       "       [   8.1, 1957. ],\n",
       "       [   8.1, 2015. ],\n",
       "       [   8.1, 2015. ],\n",
       "       [   8.1, 2009. ],\n",
       "       [   8.1, 2010. ],\n",
       "       [   8.1, 1998. ],\n",
       "       [   8.1, 2001. ],\n",
       "       [   8.1, 1975. ],\n",
       "       [   8.1, 1989. ],\n",
       "       [   8.1, 1928. ],\n",
       "       [   8.1, 1953. ],\n",
       "       [   8.1, 2004. ],\n",
       "       [   8. , 2019. ],\n",
       "       [   8. , 1976. ],\n",
       "       [   8. , 1986. ],\n",
       "       [   8. , 1986. ],\n",
       "       [   8. , 1984. ],\n",
       "       [   8. , 2015. ],\n",
       "       [   8. , 2017. ],\n",
       "       [   8. , 1955. ],\n",
       "       [   8. , 2007. ],\n",
       "       [   8. , 2013. ],\n",
       "       [   8. , 1976. ],\n",
       "       [   8. , 2007. ],\n",
       "       [   8. , 1939. ],\n",
       "       [   8. , 2004. ],\n",
       "       [   8. , 1993. ],\n",
       "       [   8. , 1973. ],\n",
       "       [   8. , 1946. ],\n",
       "       [   8. , 2021. ],\n",
       "       [   8. , 2004. ],\n",
       "       [   8. , 1966. ],\n",
       "       [   8. , 1942. ],\n",
       "       [   8. , 2022. ],\n",
       "       [   8. , 2009. ],\n",
       "       [   8. , 2003. ],\n",
       "       [   8. , 1940. ],\n",
       "       [   8. , 2000. ],\n",
       "       [   8. , 1995. ],\n",
       "       [   8. , 1940. ],\n",
       "       [   8. , 2005. ],\n",
       "       [   8. , 1967. ],\n",
       "       [   8. , 1959. ],\n",
       "       [   8. , 2016. ],\n",
       "       [   8. , 1934. ],\n",
       "       [   8. , 1965. ],\n",
       "       [   8. , 1966. ],\n",
       "       [   8. , 1979. ],\n",
       "       [   8. , 1975. ],\n",
       "       [   8. , 1992. ],\n",
       "       [   8. , 2011. ],\n",
       "       [   8. , 1982. ],\n",
       "       [   8. , 1999. ]])"
      ]
     },
     "execution_count": 201,
     "metadata": {},
     "output_type": "execute_result"
    }
   ],
   "source": [
    "###SEGREGATE AND ZIPPING DATASET\n",
    "IMDBRating = dataset[' IMDBRating'].values\n",
    "Movie_Year = dataset['Movie Year'].values\n",
    "x = np.array(list(zip(IMDBRating, Movie_Year)))\n",
    "x"
   ]
  },
  {
   "cell_type": "code",
   "execution_count": 205,
   "id": "7b40f7d4",
   "metadata": {},
   "outputs": [
    {
     "data": {
      "text/plain": [
       "(250, 2)"
      ]
     },
     "execution_count": 205,
     "metadata": {},
     "output_type": "execute_result"
    }
   ],
   "source": [
    "x.shape"
   ]
  },
  {
   "cell_type": "code",
   "execution_count": 206,
   "id": "81e18ca0",
   "metadata": {},
   "outputs": [],
   "source": [
    "###Let us now fit k-means algorithm on our scaled data and find out the optimum number of clusters to use\n",
    "\n",
    "from sklearn.cluster import KMeans"
   ]
  },
  {
   "cell_type": "code",
   "execution_count": 209,
   "id": "1ab21534",
   "metadata": {},
   "outputs": [
    {
     "name": "stderr",
     "output_type": "stream",
     "text": [
      "C:\\Users\\HP\\AppData\\Roaming\\Python\\Python39\\site-packages\\sklearn\\cluster\\_kmeans.py:1334: UserWarning: KMeans is known to have a memory leak on Windows with MKL, when there are less chunks than available threads. You can avoid it by setting the environment variable OMP_NUM_THREADS=1.\n",
      "  warnings.warn(\n",
      "C:\\Users\\HP\\AppData\\Roaming\\Python\\Python39\\site-packages\\sklearn\\cluster\\_kmeans.py:1334: UserWarning: KMeans is known to have a memory leak on Windows with MKL, when there are less chunks than available threads. You can avoid it by setting the environment variable OMP_NUM_THREADS=1.\n",
      "  warnings.warn(\n",
      "C:\\Users\\HP\\AppData\\Roaming\\Python\\Python39\\site-packages\\sklearn\\cluster\\_kmeans.py:1334: UserWarning: KMeans is known to have a memory leak on Windows with MKL, when there are less chunks than available threads. You can avoid it by setting the environment variable OMP_NUM_THREADS=1.\n",
      "  warnings.warn(\n",
      "C:\\Users\\HP\\AppData\\Roaming\\Python\\Python39\\site-packages\\sklearn\\cluster\\_kmeans.py:1334: UserWarning: KMeans is known to have a memory leak on Windows with MKL, when there are less chunks than available threads. You can avoid it by setting the environment variable OMP_NUM_THREADS=1.\n",
      "  warnings.warn(\n",
      "C:\\Users\\HP\\AppData\\Roaming\\Python\\Python39\\site-packages\\sklearn\\cluster\\_kmeans.py:1334: UserWarning: KMeans is known to have a memory leak on Windows with MKL, when there are less chunks than available threads. You can avoid it by setting the environment variable OMP_NUM_THREADS=1.\n",
      "  warnings.warn(\n",
      "C:\\Users\\HP\\AppData\\Roaming\\Python\\Python39\\site-packages\\sklearn\\cluster\\_kmeans.py:1334: UserWarning: KMeans is known to have a memory leak on Windows with MKL, when there are less chunks than available threads. You can avoid it by setting the environment variable OMP_NUM_THREADS=1.\n",
      "  warnings.warn(\n",
      "C:\\Users\\HP\\AppData\\Roaming\\Python\\Python39\\site-packages\\sklearn\\cluster\\_kmeans.py:1334: UserWarning: KMeans is known to have a memory leak on Windows with MKL, when there are less chunks than available threads. You can avoid it by setting the environment variable OMP_NUM_THREADS=1.\n",
      "  warnings.warn(\n",
      "C:\\Users\\HP\\AppData\\Roaming\\Python\\Python39\\site-packages\\sklearn\\cluster\\_kmeans.py:1334: UserWarning: KMeans is known to have a memory leak on Windows with MKL, when there are less chunks than available threads. You can avoid it by setting the environment variable OMP_NUM_THREADS=1.\n",
      "  warnings.warn(\n",
      "C:\\Users\\HP\\AppData\\Roaming\\Python\\Python39\\site-packages\\sklearn\\cluster\\_kmeans.py:1334: UserWarning: KMeans is known to have a memory leak on Windows with MKL, when there are less chunks than available threads. You can avoid it by setting the environment variable OMP_NUM_THREADS=1.\n",
      "  warnings.warn(\n"
     ]
    },
    {
     "data": {
      "image/png": "[encoded data removed]",
      "text/plain": [
       "<Figure size 432x288 with 1 Axes>"
      ]
     },
     "metadata": {
      "needs_background": "light"
     },
     "output_type": "display_data"
    }
   ],
   "source": [
    "###FINDING THE OPTIMIZED K VALUE\n",
    "\n",
    "sse = {} \n",
    "for k in range(1, 10):\n",
    "    kmeans = KMeans(n_clusters=k, max_iter=1000, random_state=1).fit(x)\n",
    "    sse[k] = kmeans.inertia_\n",
    "\n",
    "plt.figure()\n",
    "plt.plot(list(sse.keys()), list(sse.values()), color='r', marker='*')\n",
    "plt.title('Optimal K Value')\n",
    "plt.xlabel(\"Number of cluster\")\n",
    "plt.ylabel(\"SSE\")\n",
    "plt.show()"
   ]
  },
  {
   "cell_type": "code",
   "execution_count": 218,
   "id": "95ed04d3",
   "metadata": {},
   "outputs": [
    {
     "name": "stderr",
     "output_type": "stream",
     "text": [
      "C:\\Users\\HP\\AppData\\Roaming\\Python\\Python39\\site-packages\\sklearn\\cluster\\_kmeans.py:1334: UserWarning: KMeans is known to have a memory leak on Windows with MKL, when there are less chunks than available threads. You can avoid it by setting the environment variable OMP_NUM_THREADS=1.\n",
      "  warnings.warn(\n"
     ]
    }
   ],
   "source": [
    "####MAKING PREDICTION USING KMEANS \n",
    "model=KMeans(n_clusters=2, random_state=42)\n",
    "y_means = model.fit_predict(x)"
   ]
  },
  {
   "cell_type": "code",
   "execution_count": 219,
   "id": "be057cde",
   "metadata": {},
   "outputs": [
    {
     "data": {
      "image/png": "[encoded data removed]",
      "text/plain": [
       "<Figure size 432x288 with 1 Axes>"
      ]
     },
     "metadata": {
      "needs_background": "light"
     },
     "output_type": "display_data"
    }
   ],
   "source": [
    "plt.scatter(x[y_means==0,0],x[y_means==0,1],s=50, c='yellow',label='1')\n",
    "plt.scatter(x[y_means==1,0],x[y_means==1,1],s=50, c='blue',label='2')\n",
    "\n",
    "plt.scatter(model.cluster_centers_[:,0], model.cluster_centers_[:,1],s=100,marker='s', c='red')\n",
    "plt.title('MOVIE RATING Analysis')\n",
    "plt.xlabel(' IMDBRating')\n",
    "plt.ylabel('Movie Year')\n",
    "plt.show()"
   ]
  },
  {
   "cell_type": "code",
   "execution_count": 220,
   "id": "ed8c838b",
   "metadata": {},
   "outputs": [
    {
     "data": {
      "text/html": [
       "<div>\n",
       "<style scoped>\n",
       "    .dataframe tbody tr th:only-of-type {\n",
       "        vertical-align: middle;\n",
       "    }\n",
       "\n",
       "    .dataframe tbody tr th {\n",
       "        vertical-align: top;\n",
       "    }\n",
       "\n",
       "    .dataframe thead th {\n",
       "        text-align: right;\n",
       "    }\n",
       "</style>\n",
       "<table border=\"1\" class=\"dataframe\">\n",
       "  <thead>\n",
       "    <tr style=\"text-align: right;\">\n",
       "      <th></th>\n",
       "      <th>convert</th>\n",
       "    </tr>\n",
       "  </thead>\n",
       "  <tbody>\n",
       "    <tr>\n",
       "      <th>0</th>\n",
       "      <td>0</td>\n",
       "    </tr>\n",
       "    <tr>\n",
       "      <th>1</th>\n",
       "      <td>1</td>\n",
       "    </tr>\n",
       "    <tr>\n",
       "      <th>2</th>\n",
       "      <td>0</td>\n",
       "    </tr>\n",
       "    <tr>\n",
       "      <th>3</th>\n",
       "      <td>1</td>\n",
       "    </tr>\n",
       "    <tr>\n",
       "      <th>4</th>\n",
       "      <td>1</td>\n",
       "    </tr>\n",
       "    <tr>\n",
       "      <th>...</th>\n",
       "      <td>...</td>\n",
       "    </tr>\n",
       "    <tr>\n",
       "      <th>245</th>\n",
       "      <td>1</td>\n",
       "    </tr>\n",
       "    <tr>\n",
       "      <th>246</th>\n",
       "      <td>0</td>\n",
       "    </tr>\n",
       "    <tr>\n",
       "      <th>247</th>\n",
       "      <td>0</td>\n",
       "    </tr>\n",
       "    <tr>\n",
       "      <th>248</th>\n",
       "      <td>0</td>\n",
       "    </tr>\n",
       "    <tr>\n",
       "      <th>249</th>\n",
       "      <td>0</td>\n",
       "    </tr>\n",
       "  </tbody>\n",
       "</table>\n",
       "<p>250 rows × 1 columns</p>\n",
       "</div>"
      ],
      "text/plain": [
       "     convert\n",
       "0          0\n",
       "1          1\n",
       "2          0\n",
       "3          1\n",
       "4          1\n",
       "..       ...\n",
       "245        1\n",
       "246        0\n",
       "247        0\n",
       "248        0\n",
       "249        0\n",
       "\n",
       "[250 rows x 1 columns]"
      ]
     },
     "execution_count": 220,
     "metadata": {},
     "output_type": "execute_result"
    }
   ],
   "source": [
    "###Converting the cluster to data frame \n",
    "convert = pd.DataFrame(y_means,columns=['convert']) \n",
    "convert"
   ]
  },
  {
   "cell_type": "markdown",
   "id": "525ddab6",
   "metadata": {},
   "source": [
    "# HIERARCHICAL CLUSTERING\n"
   ]
  },
  {
   "cell_type": "code",
   "execution_count": 237,
   "id": "6f4f9ab8",
   "metadata": {},
   "outputs": [
    {
     "data": {
      "text/html": [
       "<div>\n",
       "<style scoped>\n",
       "    .dataframe tbody tr th:only-of-type {\n",
       "        vertical-align: middle;\n",
       "    }\n",
       "\n",
       "    .dataframe tbody tr th {\n",
       "        vertical-align: top;\n",
       "    }\n",
       "\n",
       "    .dataframe thead th {\n",
       "        text-align: right;\n",
       "    }\n",
       "</style>\n",
       "<table border=\"1\" class=\"dataframe\">\n",
       "  <thead>\n",
       "    <tr style=\"text-align: right;\">\n",
       "      <th></th>\n",
       "      <th>Movie Rank</th>\n",
       "      <th>Movie Title</th>\n",
       "      <th>Movie Year</th>\n",
       "      <th>IMDBRating</th>\n",
       "    </tr>\n",
       "  </thead>\n",
       "  <tbody>\n",
       "    <tr>\n",
       "      <th>0</th>\n",
       "      <td>1</td>\n",
       "      <td>The Shawshank Redemption</td>\n",
       "      <td>1994</td>\n",
       "      <td>9.2</td>\n",
       "    </tr>\n",
       "    <tr>\n",
       "      <th>1</th>\n",
       "      <td>2</td>\n",
       "      <td>The Godfather</td>\n",
       "      <td>1972</td>\n",
       "      <td>9.2</td>\n",
       "    </tr>\n",
       "    <tr>\n",
       "      <th>2</th>\n",
       "      <td>3</td>\n",
       "      <td>The Dark Knight</td>\n",
       "      <td>2008</td>\n",
       "      <td>9.0</td>\n",
       "    </tr>\n",
       "    <tr>\n",
       "      <th>3</th>\n",
       "      <td>4</td>\n",
       "      <td>The Godfather Part II</td>\n",
       "      <td>1974</td>\n",
       "      <td>9.0</td>\n",
       "    </tr>\n",
       "    <tr>\n",
       "      <th>4</th>\n",
       "      <td>5</td>\n",
       "      <td>12 Angry Men</td>\n",
       "      <td>1957</td>\n",
       "      <td>9.0</td>\n",
       "    </tr>\n",
       "  </tbody>\n",
       "</table>\n",
       "</div>"
      ],
      "text/plain": [
       "   Movie Rank               Movie Title  Movie Year   IMDBRating\n",
       "0           1  The Shawshank Redemption        1994          9.2\n",
       "1           2             The Godfather        1972          9.2\n",
       "2           3           The Dark Knight        2008          9.0\n",
       "3           4     The Godfather Part II        1974          9.0\n",
       "4           5              12 Angry Men        1957          9.0"
      ]
     },
     "execution_count": 237,
     "metadata": {},
     "output_type": "execute_result"
    }
   ],
   "source": [
    "dataset.head()"
   ]
  },
  {
   "cell_type": "code",
   "execution_count": 264,
   "id": "3e29c863",
   "metadata": {},
   "outputs": [],
   "source": [
    "datamovie = dataset.iloc[1:,2:]"
   ]
  },
  {
   "cell_type": "code",
   "execution_count": 262,
   "id": "3e95193f",
   "metadata": {},
   "outputs": [
    {
     "data": {
      "text/html": [
       "<div>\n",
       "<style scoped>\n",
       "    .dataframe tbody tr th:only-of-type {\n",
       "        vertical-align: middle;\n",
       "    }\n",
       "\n",
       "    .dataframe tbody tr th {\n",
       "        vertical-align: top;\n",
       "    }\n",
       "\n",
       "    .dataframe thead th {\n",
       "        text-align: right;\n",
       "    }\n",
       "</style>\n",
       "<table border=\"1\" class=\"dataframe\">\n",
       "  <thead>\n",
       "    <tr style=\"text-align: right;\">\n",
       "      <th></th>\n",
       "      <th>Movie Year</th>\n",
       "      <th>IMDBRating</th>\n",
       "    </tr>\n",
       "  </thead>\n",
       "  <tbody>\n",
       "    <tr>\n",
       "      <th>0</th>\n",
       "      <td>1994</td>\n",
       "      <td>9.2</td>\n",
       "    </tr>\n",
       "    <tr>\n",
       "      <th>1</th>\n",
       "      <td>1972</td>\n",
       "      <td>9.2</td>\n",
       "    </tr>\n",
       "    <tr>\n",
       "      <th>2</th>\n",
       "      <td>2008</td>\n",
       "      <td>9.0</td>\n",
       "    </tr>\n",
       "    <tr>\n",
       "      <th>3</th>\n",
       "      <td>1974</td>\n",
       "      <td>9.0</td>\n",
       "    </tr>\n",
       "    <tr>\n",
       "      <th>4</th>\n",
       "      <td>1957</td>\n",
       "      <td>9.0</td>\n",
       "    </tr>\n",
       "    <tr>\n",
       "      <th>...</th>\n",
       "      <td>...</td>\n",
       "      <td>...</td>\n",
       "    </tr>\n",
       "    <tr>\n",
       "      <th>245</th>\n",
       "      <td>1975</td>\n",
       "      <td>8.0</td>\n",
       "    </tr>\n",
       "    <tr>\n",
       "      <th>246</th>\n",
       "      <td>1992</td>\n",
       "      <td>8.0</td>\n",
       "    </tr>\n",
       "    <tr>\n",
       "      <th>247</th>\n",
       "      <td>2011</td>\n",
       "      <td>8.0</td>\n",
       "    </tr>\n",
       "    <tr>\n",
       "      <th>248</th>\n",
       "      <td>1982</td>\n",
       "      <td>8.0</td>\n",
       "    </tr>\n",
       "    <tr>\n",
       "      <th>249</th>\n",
       "      <td>1999</td>\n",
       "      <td>8.0</td>\n",
       "    </tr>\n",
       "  </tbody>\n",
       "</table>\n",
       "<p>250 rows × 2 columns</p>\n",
       "</div>"
      ],
      "text/plain": [
       "     Movie Year   IMDBRating\n",
       "0          1994          9.2\n",
       "1          1972          9.2\n",
       "2          2008          9.0\n",
       "3          1974          9.0\n",
       "4          1957          9.0\n",
       "..          ...          ...\n",
       "245        1975          8.0\n",
       "246        1992          8.0\n",
       "247        2011          8.0\n",
       "248        1982          8.0\n",
       "249        1999          8.0\n",
       "\n",
       "[250 rows x 2 columns]"
      ]
     },
     "execution_count": 262,
     "metadata": {},
     "output_type": "execute_result"
    }
   ],
   "source": [
    "datamovie"
   ]
  },
  {
   "cell_type": "code",
   "execution_count": 267,
   "id": "0405edde",
   "metadata": {},
   "outputs": [
    {
     "data": {
      "image/png": "[encoded data removed]",
      "text/plain": [
       "<Figure size 1152x576 with 1 Axes>"
      ]
     },
     "metadata": {
      "needs_background": "light"
     },
     "output_type": "display_data"
    }
   ],
   "source": [
    "import scipy.cluster.hierarchy as clus\n",
    "\n",
    "plt.figure(1, figsize=(16,8))\n",
    "dendrogram = clus.dendrogram(clus.linkage(datamovie, method = \"ward\"))\n",
    "\n",
    "plt.title(\"Dendrograme Tree Graph\")\n",
    "plt.xlabel('IMDB TOP 250 MOVIE RATING')\n",
    "plt.ylabel('Distances')\n",
    "plt.show()"
   ]
  },
  {
   "cell_type": "code",
   "execution_count": 269,
   "id": "b9b28350",
   "metadata": {
    "scrolled": true
   },
   "outputs": [
    {
     "data": {
      "text/plain": [
       "array([0, 1, 0, 0, 1, 1, 1, 1, 0, 1, 1, 1, 1, 0, 1, 1, 0, 1, 0, 0, 1, 1,\n",
       "       1, 1, 1, 1, 0, 1, 0, 1, 0, 1, 1, 1, 1, 1, 1, 1, 1, 1, 1, 0, 0, 1,\n",
       "       0, 0, 0, 0, 0, 0, 0, 0, 1, 0, 1, 1, 1, 0, 0, 0, 0, 1, 0, 0, 1, 1,\n",
       "       0, 1, 1, 1, 0, 1, 1, 1, 1, 0, 1, 1, 0, 1, 1, 1, 1, 0, 1, 1, 0, 0,\n",
       "       1, 1, 0, 1, 1, 0, 0, 0, 0, 0, 0, 1, 0, 0, 0, 0, 0, 1, 0, 0, 0, 1,\n",
       "       1, 1, 0, 1, 0, 1, 1, 0, 0, 0, 1, 1, 1, 0, 1, 1, 0, 0, 1, 0, 1, 1,\n",
       "       0, 0, 1, 1, 1, 1, 1, 1, 1, 1, 0, 0, 1, 0, 1, 0, 0, 1, 1, 1, 0, 0,\n",
       "       0, 0, 1, 0, 1, 1, 0, 1, 1, 0, 1, 1, 1, 1, 1, 1, 0, 1, 1, 1, 0, 0,\n",
       "       0, 1, 1, 1, 0, 0, 0, 1, 0, 1, 0, 1, 0, 0, 1, 1, 0, 0, 1, 1, 0, 1,\n",
       "       1, 1, 1, 1, 1, 0, 0, 0, 0, 1, 1, 0, 0, 0, 0, 1, 1, 0, 1, 1, 0, 1,\n",
       "       0, 1, 1, 0, 0, 1, 1, 0, 0, 1, 1, 1, 0, 1, 1, 0, 1, 0, 0, 1, 0, 0,\n",
       "       0, 0, 0, 1, 1, 0, 1], dtype=int64)"
      ]
     },
     "execution_count": 269,
     "metadata": {},
     "output_type": "execute_result"
    }
   ],
   "source": [
    "####FITTING THE HIERARCHIAL CLUSTERING TO THE DATASET WITH N=2\n",
    "\n",
    "from sklearn.cluster import AgglomerativeClustering\n",
    "model = AgglomerativeClustering(n_clusters = 2, affinity = 'euclidean', linkage = 'average')\n",
    "y_means = model.fit_predict(datamovie)\n",
    "y_means"
   ]
  },
  {
   "cell_type": "markdown",
   "id": "a4760659",
   "metadata": {},
   "source": [
    "ANALYSIS BASED ON THE FINDINGS\n",
    "\n",
    "1. WITH THE HELP OF CLUSTERING ALGORITHM WE WERE ABLE TO IDENTIFY THAT LEAST MOVIES WERE RELEASED BETWEEN THE YEAR OF 1920 -        1980 COMPARED TO 1980-2020\n",
    "\n",
    "2. MOVIES BETWEEN 1980 - 2020 HAD HIGHER RATING COMPARED TO 1920 - 1980"
   ]
  }
 ],
 "metadata": {
  "kernelspec": {
   "display_name": "Python 3 (ipykernel)",
   "language": "python",
   "name": "python3"
  },
  "language_info": {
   "codemirror_mode": {
    "name": "ipython",
    "version": 3
   },
   "file_extension": ".py",
   "mimetype": "text/x-python",
   "name": "python",
   "nbconvert_exporter": "python",
   "pygments_lexer": "ipython3",
   "version": "3.9.12"
  }
 },
 "nbformat": 4,
 "nbformat_minor": 5
}
